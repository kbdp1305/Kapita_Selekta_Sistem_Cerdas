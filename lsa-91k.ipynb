{
 "cells": [
  {
   "cell_type": "code",
   "execution_count": 1,
   "metadata": {},
   "outputs": [],
   "source": [
    "text_list=[]\n",
    "def create_token(tweet) :\n",
    "  tweet=tweet.split()\n",
    "  text_list.append(tweet)"
   ]
  },
  {
   "cell_type": "code",
   "execution_count": 2,
   "metadata": {},
   "outputs": [],
   "source": [
    "import pandas as pd \n",
    "import gensim\n",
    "from gensim import corpora, models\n",
    "from gensim.models import Phrases\n"
   ]
  },
  {
   "cell_type": "code",
   "execution_count": 3,
   "metadata": {},
   "outputs": [],
   "source": [
    "raw_data=pd.read_csv('cleaned_dataset.csv')"
   ]
  },
  {
   "cell_type": "code",
   "execution_count": 4,
   "metadata": {},
   "outputs": [
    {
     "data": {
      "text/html": [
       "<div>\n",
       "<style scoped>\n",
       "    .dataframe tbody tr th:only-of-type {\n",
       "        vertical-align: middle;\n",
       "    }\n",
       "\n",
       "    .dataframe tbody tr th {\n",
       "        vertical-align: top;\n",
       "    }\n",
       "\n",
       "    .dataframe thead th {\n",
       "        text-align: right;\n",
       "    }\n",
       "</style>\n",
       "<table border=\"1\" class=\"dataframe\">\n",
       "  <thead>\n",
       "    <tr style=\"text-align: right;\">\n",
       "      <th></th>\n",
       "      <th>title</th>\n",
       "      <th>category</th>\n",
       "      <th>cleaned_title</th>\n",
       "    </tr>\n",
       "  </thead>\n",
       "  <tbody>\n",
       "    <tr>\n",
       "      <th>91012</th>\n",
       "      <td>Ketumpahan Air Panas di Pesawat, Kamu Bisa Tun...</td>\n",
       "      <td>travel</td>\n",
       "      <td>tumpah air panas pesawat kamu tuntut maskapai</td>\n",
       "    </tr>\n",
       "    <tr>\n",
       "      <th>91013</th>\n",
       "      <td>Foto: Bali &amp; 9 Destinasi Paling Instagramable ...</td>\n",
       "      <td>travel</td>\n",
       "      <td>foto bal destinasi paling instagramable tahun</td>\n",
       "    </tr>\n",
       "    <tr>\n",
       "      <th>91014</th>\n",
       "      <td>Game Bikin Turis Ini Liburan ke Jepang untuk.....</td>\n",
       "      <td>travel</td>\n",
       "      <td>game bikin turis libur jepang cari yakuza</td>\n",
       "    </tr>\n",
       "    <tr>\n",
       "      <th>91015</th>\n",
       "      <td>Sekeluarga Didepak dari Pesawat, Maskapai Bila...</td>\n",
       "      <td>travel</td>\n",
       "      <td>keluarga depak pesawat maskapai bilang bau badan</td>\n",
       "    </tr>\n",
       "    <tr>\n",
       "      <th>91016</th>\n",
       "      <td>Kapal Raib di Segitiga Bermuda, Nyaris Seabad ...</td>\n",
       "      <td>travel</td>\n",
       "      <td>kapal raib segitiga muda nyaris abad baru ketemu</td>\n",
       "    </tr>\n",
       "  </tbody>\n",
       "</table>\n",
       "</div>"
      ],
      "text/plain": [
       "                                                   title category  \\\n",
       "91012  Ketumpahan Air Panas di Pesawat, Kamu Bisa Tun...   travel   \n",
       "91013  Foto: Bali & 9 Destinasi Paling Instagramable ...   travel   \n",
       "91014  Game Bikin Turis Ini Liburan ke Jepang untuk.....   travel   \n",
       "91015  Sekeluarga Didepak dari Pesawat, Maskapai Bila...   travel   \n",
       "91016  Kapal Raib di Segitiga Bermuda, Nyaris Seabad ...   travel   \n",
       "\n",
       "                                          cleaned_title  \n",
       "91012     tumpah air panas pesawat kamu tuntut maskapai  \n",
       "91013     foto bal destinasi paling instagramable tahun  \n",
       "91014         game bikin turis libur jepang cari yakuza  \n",
       "91015  keluarga depak pesawat maskapai bilang bau badan  \n",
       "91016  kapal raib segitiga muda nyaris abad baru ketemu  "
      ]
     },
     "execution_count": 4,
     "metadata": {},
     "output_type": "execute_result"
    }
   ],
   "source": [
    "raw_data.tail()"
   ]
  },
  {
   "cell_type": "code",
   "execution_count": 5,
   "metadata": {},
   "outputs": [
    {
     "data": {
      "text/plain": [
       "0        None\n",
       "1        None\n",
       "2        None\n",
       "3        None\n",
       "4        None\n",
       "         ... \n",
       "91012    None\n",
       "91013    None\n",
       "91014    None\n",
       "91015    None\n",
       "91016    None\n",
       "Name: cleaned_title, Length: 91017, dtype: object"
      ]
     },
     "execution_count": 5,
     "metadata": {},
     "output_type": "execute_result"
    }
   ],
   "source": [
    "raw_data['cleaned_title'].apply(create_token)"
   ]
  },
  {
   "cell_type": "code",
   "execution_count": 6,
   "metadata": {},
   "outputs": [
    {
     "data": {
      "text/plain": [
       "['kemnaker', 'awas', 'tka', 'meikarta']"
      ]
     },
     "execution_count": 6,
     "metadata": {},
     "output_type": "execute_result"
    }
   ],
   "source": [
    "text_list[0]"
   ]
  },
  {
   "cell_type": "code",
   "execution_count": 7,
   "metadata": {},
   "outputs": [],
   "source": [
    "bigram = Phrases(text_list, min_count=10)\n",
    "trigram = Phrases(bigram[text_list])"
   ]
  },
  {
   "cell_type": "code",
   "execution_count": 8,
   "metadata": {},
   "outputs": [],
   "source": [
    "for idx in range(len(text_list)):\n",
    "    for token in bigram[text_list[idx]]:\n",
    "        if '_' in token:\n",
    "            # Token is a bigram, add to document.\n",
    "            text_list[idx].append(token)\n",
    "    for token in trigram[text_list[idx]]:\n",
    "        if '_' in token:\n",
    "            # Token is a bigram, add to document.\n",
    "            text_list[idx].append(token)"
   ]
  },
  {
   "cell_type": "code",
   "execution_count": 9,
   "metadata": {},
   "outputs": [],
   "source": [
    "dictionary = corpora.Dictionary(text_list)\n",
    "dictionary.filter_extremes(no_below=5, no_above=0.2)"
   ]
  },
  {
   "cell_type": "code",
   "execution_count": 10,
   "metadata": {},
   "outputs": [
    {
     "name": "stdout",
     "output_type": "stream",
     "text": [
      "Dictionary<15547 unique tokens: ['awas', 'kemnaker', 'meikarta', 'tka', 'bni']...>\n"
     ]
    }
   ],
   "source": [
    "print(dictionary)"
   ]
  },
  {
   "cell_type": "code",
   "execution_count": 11,
   "metadata": {},
   "outputs": [],
   "source": [
    "doc_term_matrix = [dictionary.doc2bow(doc) for doc in text_list]"
   ]
  },
  {
   "cell_type": "code",
   "execution_count": 12,
   "metadata": {},
   "outputs": [],
   "source": [
    "tfidf = models.TfidfModel(doc_term_matrix) #build TF-IDF model\n",
    "corpus_tfidf = tfidf[doc_term_matrix]"
   ]
  },
  {
   "cell_type": "code",
   "execution_count": 13,
   "metadata": {},
   "outputs": [
    {
     "name": "stdout",
     "output_type": "stream",
     "text": [
      "[(0, 0.37411001916150094), (1, 0.5311762505868636), (2, 0.5799564475653809), (3, 0.49147126396444235)]\n"
     ]
    }
   ],
   "source": [
    "for i in corpus_tfidf :\n",
    "    print(i)\n",
    "    break"
   ]
  },
  {
   "cell_type": "code",
   "execution_count": 26,
   "metadata": {},
   "outputs": [],
   "source": [
    "from gensim.models.coherencemodel import CoherenceModel\n",
    "from gensim.models.lsimodel import LsiModel\n",
    "from gensim.corpora.dictionary import Dictionary\n",
    "from numpy import array\n",
    "from tqdm import tqdm"
   ]
  },
  {
   "cell_type": "code",
   "execution_count": 27,
   "metadata": {},
   "outputs": [],
   "source": [
    "def compute_coherence_values(dictionary, corpus, texts, limit, start, step):\n",
    "    coherence_values = []\n",
    "    model_list = []\n",
    "    for num_topics in tqdm(range(start, limit, step), desc=\"Topics Progress\"): #range(start, limit, step):\n",
    "        model = LsiModel(corpus=corpus, id2word=dictionary, num_topics=num_topics) #iterations=100, passes=10\n",
    "        model_list.append(model)\n",
    "        coherencemodel = CoherenceModel(model=model, texts=texts, dictionary=dictionary, coherence='c_v')\n",
    "        coherence_values.append(coherencemodel.get_coherence())\n",
    "\n",
    "    return model_list, coherence_values"
   ]
  },
  {
   "cell_type": "code",
   "execution_count": 28,
   "metadata": {},
   "outputs": [
    {
     "name": "stderr",
     "output_type": "stream",
     "text": [
      "Topics Progress: 100%|██████████████████████████████████████████████████████████████████| 99/99 [07:24<00:00,  4.49s/it]\n"
     ]
    }
   ],
   "source": [
    "start=1\n",
    "limit=100\n",
    "step=1\n",
    "model_list, coherence_values = compute_coherence_values(dictionary, corpus=corpus_tfidf,\n",
    "                                                        texts=text_list, start=start, limit=limit, step=step)"
   ]
  },
  {
   "cell_type": "code",
   "execution_count": 44,
   "metadata": {},
   "outputs": [
    {
     "data": {
      "image/png": "[encoded data removed]",
      "text/plain": [
       "<Figure size 640x480 with 1 Axes>"
      ]
     },
     "metadata": {},
     "output_type": "display_data"
    }
   ],
   "source": [
    "import matplotlib.pyplot as plt\n",
    "x = range(start, limit, step)\n",
    "\n",
    "plt.figure()\n",
    "plt.plot(x, coherence_values)\n",
    "plt.title('Skor Koherensi berdasarkan Banyak Topik')\n",
    "plt.xlabel(\"Banyak Topik\")\n",
    "plt.ylabel(\"Skor Coherence Sentimen Negatif\")\n",
    "plt.savefig('lsi_91K.jpg')\n",
    "plt.show()"
   ]
  },
  {
   "cell_type": "code",
   "execution_count": 40,
   "metadata": {},
   "outputs": [
    {
     "name": "stdout",
     "output_type": "stream",
     "text": [
      "Koherensi tertinggi dicapai pada 97 topik dengan nilai 0.45850005299701807\n"
     ]
    }
   ],
   "source": [
    "temp=0\n",
    "index=0\n",
    "for i in range(len(coherence_values)):\n",
    "    if coherence_values[i]>temp:\n",
    "        temp=coherence_values[i]\n",
    "        index=i+1\n",
    "print(f'Koherensi tertinggi dicapai pada {index} topik dengan nilai {temp}')"
   ]
  },
  {
   "cell_type": "code",
   "execution_count": 49,
   "metadata": {},
   "outputs": [
    {
     "data": {
      "text/plain": [
       "0.45850005299701807"
      ]
     },
     "execution_count": 49,
     "metadata": {},
     "output_type": "execute_result"
    }
   ],
   "source": [
    "coherence_values[96]"
   ]
  },
  {
   "cell_type": "code",
   "execution_count": 50,
   "metadata": {},
   "outputs": [],
   "source": [
    "model_list[96].save('lsi_91K.model')"
   ]
  },
  {
   "cell_type": "code",
   "execution_count": null,
   "metadata": {},
   "outputs": [],
   "source": [
    "for idx, topic in model_list.print_topics(-1):\n",
    "    print('Topic: {} Word: {}'.format(idx, topic))"
   ]
  }
 ],
 "metadata": {
  "kernelspec": {
   "display_name": "Python 3 (ipykernel)",
   "language": "python",
   "name": "python3"
  },
  "language_info": {
   "codemirror_mode": {
    "name": "ipython",
    "version": 3
   },
   "file_extension": ".py",
   "mimetype": "text/x-python",
   "name": "python",
   "nbconvert_exporter": "python",
   "pygments_lexer": "ipython3",
   "version": "3.11.5"
  }
 },
 "nbformat": 4,
 "nbformat_minor": 4
}
