{
 "cells": [
  {
   "cell_type": "code",
   "execution_count": 1,
   "metadata": {},
   "outputs": [],
   "source": [
    "import pandas as pd\n",
    "import spacy\n",
    "from spacy.lang.id import Indonesian\n",
    "from spacy.lang.id.stop_words import STOP_WORDS\n",
    "from Sastrawi.Stemmer.StemmerFactory import StemmerFactory\n",
    "import re"
   ]
  },
  {
   "cell_type": "code",
   "execution_count": 21,
   "metadata": {},
   "outputs": [],
   "source": [
    "raw_data=pd.read_csv('detik_news_title.csv')"
   ]
  },
  {
   "cell_type": "code",
   "execution_count": 23,
   "metadata": {},
   "outputs": [],
   "source": [
    "raw_data=raw_data.iloc[:,2:]"
   ]
  },
  {
   "cell_type": "code",
   "execution_count": 24,
   "metadata": {},
   "outputs": [
    {
     "data": {
      "text/html": [
       "<div>\n",
       "<style scoped>\n",
       "    .dataframe tbody tr th:only-of-type {\n",
       "        vertical-align: middle;\n",
       "    }\n",
       "\n",
       "    .dataframe tbody tr th {\n",
       "        vertical-align: top;\n",
       "    }\n",
       "\n",
       "    .dataframe thead th {\n",
       "        text-align: right;\n",
       "    }\n",
       "</style>\n",
       "<table border=\"1\" class=\"dataframe\">\n",
       "  <thead>\n",
       "    <tr style=\"text-align: right;\">\n",
       "      <th></th>\n",
       "      <th>title</th>\n",
       "      <th>category</th>\n",
       "    </tr>\n",
       "  </thead>\n",
       "  <tbody>\n",
       "    <tr>\n",
       "      <th>0</th>\n",
       "      <td>Kemnaker Awasi TKA di Meikarta</td>\n",
       "      <td>finance</td>\n",
       "    </tr>\n",
       "    <tr>\n",
       "      <th>1</th>\n",
       "      <td>BNI Digitalkan BNI Java Jazz 2020</td>\n",
       "      <td>finance</td>\n",
       "    </tr>\n",
       "    <tr>\n",
       "      <th>2</th>\n",
       "      <td>Terbang ke Australia, Edhy Prabowo Mau Genjot ...</td>\n",
       "      <td>finance</td>\n",
       "    </tr>\n",
       "    <tr>\n",
       "      <th>3</th>\n",
       "      <td>OJK Siapkan Stimulus Ekonomi Antisipasi Dampak...</td>\n",
       "      <td>finance</td>\n",
       "    </tr>\n",
       "    <tr>\n",
       "      <th>4</th>\n",
       "      <td>Saran Buat Anies-RK yang Mangkir Rapat Banjir ...</td>\n",
       "      <td>finance</td>\n",
       "    </tr>\n",
       "  </tbody>\n",
       "</table>\n",
       "</div>"
      ],
      "text/plain": [
       "                                               title category\n",
       "0                     Kemnaker Awasi TKA di Meikarta  finance\n",
       "1                  BNI Digitalkan BNI Java Jazz 2020  finance\n",
       "2  Terbang ke Australia, Edhy Prabowo Mau Genjot ...  finance\n",
       "3  OJK Siapkan Stimulus Ekonomi Antisipasi Dampak...  finance\n",
       "4  Saran Buat Anies-RK yang Mangkir Rapat Banjir ...  finance"
      ]
     },
     "execution_count": 24,
     "metadata": {},
     "output_type": "execute_result"
    }
   ],
   "source": [
    "raw_data.head()"
   ]
  },
  {
   "cell_type": "markdown",
   "metadata": {},
   "source": [
    "# Preprocessing"
   ]
  },
  {
   "cell_type": "code",
   "execution_count": 5,
   "metadata": {},
   "outputs": [
    {
     "name": "stderr",
     "output_type": "stream",
     "text": [
      "Downloading...\n",
      "From: https://drive.google.com/uc?id=14M5i-Dd_oFCCJf4avgTEQeZLO5PCKCzy\n",
      "To: c:\\Users\\vince\\Documents\\Dokumen Vincent\\Semester 6\\Kapita Selekta Sistem Cerdas\\kamus_alay.csv\n",
      "100%|██████████| 3.09M/3.09M [00:02<00:00, 1.24MB/s]\n",
      "Downloading...\n",
      "From: https://drive.google.com/uc?id=1f1aOazCYJXCnhg7Brf5GelE7yE8-QflK\n",
      "To: c:\\Users\\vince\\Documents\\Dokumen Vincent\\Semester 6\\Kapita Selekta Sistem Cerdas\\kamus_singkatan.csv\n",
      "100%|██████████| 18.9k/18.9k [00:00<00:00, 3.53MB/s]\n"
     ]
    },
    {
     "data": {
      "text/plain": [
       "'kamus_singkatan.csv'"
      ]
     },
     "execution_count": 5,
     "metadata": {},
     "output_type": "execute_result"
    }
   ],
   "source": [
    "import gdown\n",
    "kamus_alay_url='https://drive.google.com/uc?id=14M5i-Dd_oFCCJf4avgTEQeZLO5PCKCzy'\n",
    "kamus_alay_path='kamus_alay.csv'\n",
    "kamus_singkatan_url='https://drive.google.com/uc?id=1f1aOazCYJXCnhg7Brf5GelE7yE8-QflK'\n",
    "kamus_singkatan_path='kamus_singkatan.csv'\n",
    "gdown.download(kamus_alay_url, kamus_alay_path, quiet=False)\n",
    "gdown.download(kamus_singkatan_url, kamus_singkatan_path, quiet=False)"
   ]
  },
  {
   "cell_type": "code",
   "execution_count": 6,
   "metadata": {},
   "outputs": [],
   "source": [
    "kamus_alay=pd.read_csv(kamus_alay_path)\n",
    "kamus_alay=kamus_alay.rename(columns = {'slang' : 'kamus_slang' , 'formal' : 'kamus_perbaikan'})\n",
    "# Rekonstruksi data sebagai 'dict'\n",
    "slang_mapping = dict(zip(kamus_alay['kamus_slang'], kamus_alay['kamus_perbaikan']))\n",
    "kamus_singkatan = pd.read_csv(kamus_singkatan_path, header=None, names=['sebelum_perbaikan', 'setelah_perbaikan'],delimiter=';')\n",
    "singkatan_mapping=dict(zip(kamus_singkatan['sebelum_perbaikan'],kamus_singkatan['setelah_perbaikan']))"
   ]
  },
  {
   "cell_type": "code",
   "execution_count": 8,
   "metadata": {},
   "outputs": [],
   "source": [
    "# Menggunakan kamus kata gaul Salsabila\n",
    "from Sastrawi.StopWordRemover.StopWordRemoverFactory import  StopWordRemoverFactory\n",
    "import emoji\n",
    "stopword_factory = StopWordRemoverFactory()\n",
    "stopwords = stopword_factory.get_stop_words()\n",
    "# List of words with negation meaning\n",
    "data = emoji.EMOJI_DATA\n",
    "\n",
    "# Remove negation words from stopwords\n",
    "stopwords = set(stopwords)\n",
    "nlp = Indonesian()\n",
    "factory = StemmerFactory()\n",
    "stemmer = factory.create_stemmer()"
   ]
  },
  {
   "cell_type": "code",
   "execution_count": 9,
   "metadata": {},
   "outputs": [],
   "source": [
    "def preprocessing_tweet(tweet) :\n",
    "    tweet=tweet.lower()\n",
    "    tweet=re.sub(r'@[A-Za-z0-9]+','',tweet) # Remove Mentions\n",
    "    tweet=re.sub(r'#[A-Za-z0-9]+','',tweet) # Remove Hashtags\n",
    "    tweet=re.sub(r'RT[\\s]+','',tweet) # Remove Retweets\n",
    "    tweet=re.sub(r'https?:\\/\\/\\S+','',tweet) # Remove Hyperlinks\n",
    "    tweet=re.sub(r'www?:\\/\\/\\S+','',tweet) # Remove Hyperlinks\n",
    "    tweet=re.sub(r'\\n','',tweet) # Remove Newlines\n",
    "    tweet=re.sub(r'\\r','',tweet) # Remove Newlines\n",
    "    tweet=re.sub(r'\\t','',tweet) # Remove Newlines\n",
    "    tweet=re.sub(r'\\s+',' ',tweet) # Remove Extra Spaces\n",
    "    tweet=re.sub(r'\\d+','',tweet) # Remove Numbers\n",
    "    tweet=re.sub(r'[^a-zA-Z\\s]','',tweet) # Remove Punctuations\n",
    "    tweet=re.sub(r'\\s+[a-zA-Z]\\s+',' ',tweet) # Remove Single Characters\n",
    "    tweet=re.sub(r'\\s+[a-zA-Z]$','',tweet) # Remove Single Characters\n",
    "    tweet=re.sub(r'^[a-zA-Z]\\s+','',tweet) # Remove Single Characters\n",
    "    tweet=re.sub(r'\\s+',' ',tweet) # Remove Extra Spaces\n",
    "    tweet=emoji.demojize(tweet) # Convert Emojis to Text\n",
    "    tweet_tokens = []\n",
    "    tokens = tweet.split()\n",
    "    for ele in tokens:\n",
    "      ele_kamus = kamus_singkatan.get(ele, ele)\n",
    "      ele_slang = slang_mapping.get(ele_kamus, ele_kamus)\n",
    "      tweet_tokens.append(ele_slang)\n",
    "\n",
    "    tweet = ' '.join(tweet_tokens)\n",
    "    tweet = nlp(tweet)\n",
    "    tweet = [token.text for token in tweet if token.text not in stopwords]\n",
    "    tweet = ' '.join(tweet)\n",
    "    tweet = stemmer.stem(tweet)\n",
    "    return tweet"
   ]
  },
  {
   "cell_type": "code",
   "execution_count": 25,
   "metadata": {},
   "outputs": [],
   "source": [
    "raw_data['cleaned_title']=raw_data['title'].apply(preprocessing_tweet)"
   ]
  },
  {
   "cell_type": "code",
   "execution_count": 26,
   "metadata": {},
   "outputs": [],
   "source": [
    "raw_data.to_csv(\"cleaned_dataset.csv\",index=False)"
   ]
  }
 ],
 "metadata": {
  "kernelspec": {
   "display_name": "base",
   "language": "python",
   "name": "python3"
  },
  "language_info": {
   "codemirror_mode": {
    "name": "ipython",
    "version": 3
   },
   "file_extension": ".py",
   "mimetype": "text/x-python",
   "name": "python",
   "nbconvert_exporter": "python",
   "pygments_lexer": "ipython3",
   "version": "3.11.5"
  }
 },
 "nbformat": 4,
 "nbformat_minor": 2
}
