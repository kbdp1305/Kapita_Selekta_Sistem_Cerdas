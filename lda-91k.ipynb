{
 "cells": [
  {
   "cell_type": "code",
   "execution_count": 1,
   "metadata": {},
   "outputs": [],
   "source": [
    "text_list=[]\n",
    "def create_token(tweet) :\n",
    "  tweet=tweet.split()\n",
    "  text_list.append(tweet)"
   ]
  },
  {
   "cell_type": "code",
   "execution_count": 2,
   "metadata": {},
   "outputs": [],
   "source": [
    "import pandas as pd \n",
    "import gensim\n",
    "from gensim import corpora, models\n",
    "from gensim.models import Phrases\n"
   ]
  },
  {
   "cell_type": "code",
   "execution_count": 3,
   "metadata": {},
   "outputs": [],
   "source": [
    "raw_data=pd.read_csv('cleaned_dataset.csv')"
   ]
  },
  {
   "cell_type": "code",
   "execution_count": 4,
   "metadata": {},
   "outputs": [
    {
     "data": {
      "text/html": [
       "<div>\n",
       "<style scoped>\n",
       "    .dataframe tbody tr th:only-of-type {\n",
       "        vertical-align: middle;\n",
       "    }\n",
       "\n",
       "    .dataframe tbody tr th {\n",
       "        vertical-align: top;\n",
       "    }\n",
       "\n",
       "    .dataframe thead th {\n",
       "        text-align: right;\n",
       "    }\n",
       "</style>\n",
       "<table border=\"1\" class=\"dataframe\">\n",
       "  <thead>\n",
       "    <tr style=\"text-align: right;\">\n",
       "      <th></th>\n",
       "      <th>title</th>\n",
       "      <th>category</th>\n",
       "      <th>cleaned_title</th>\n",
       "    </tr>\n",
       "  </thead>\n",
       "  <tbody>\n",
       "    <tr>\n",
       "      <th>91012</th>\n",
       "      <td>Ketumpahan Air Panas di Pesawat, Kamu Bisa Tun...</td>\n",
       "      <td>travel</td>\n",
       "      <td>tumpah air panas pesawat kamu tuntut maskapai</td>\n",
       "    </tr>\n",
       "    <tr>\n",
       "      <th>91013</th>\n",
       "      <td>Foto: Bali &amp; 9 Destinasi Paling Instagramable ...</td>\n",
       "      <td>travel</td>\n",
       "      <td>foto bal destinasi paling instagramable tahun</td>\n",
       "    </tr>\n",
       "    <tr>\n",
       "      <th>91014</th>\n",
       "      <td>Game Bikin Turis Ini Liburan ke Jepang untuk.....</td>\n",
       "      <td>travel</td>\n",
       "      <td>game bikin turis libur jepang cari yakuza</td>\n",
       "    </tr>\n",
       "    <tr>\n",
       "      <th>91015</th>\n",
       "      <td>Sekeluarga Didepak dari Pesawat, Maskapai Bila...</td>\n",
       "      <td>travel</td>\n",
       "      <td>keluarga depak pesawat maskapai bilang bau badan</td>\n",
       "    </tr>\n",
       "    <tr>\n",
       "      <th>91016</th>\n",
       "      <td>Kapal Raib di Segitiga Bermuda, Nyaris Seabad ...</td>\n",
       "      <td>travel</td>\n",
       "      <td>kapal raib segitiga muda nyaris abad baru ketemu</td>\n",
       "    </tr>\n",
       "  </tbody>\n",
       "</table>\n",
       "</div>"
      ],
      "text/plain": [
       "                                                   title category  \\\n",
       "91012  Ketumpahan Air Panas di Pesawat, Kamu Bisa Tun...   travel   \n",
       "91013  Foto: Bali & 9 Destinasi Paling Instagramable ...   travel   \n",
       "91014  Game Bikin Turis Ini Liburan ke Jepang untuk.....   travel   \n",
       "91015  Sekeluarga Didepak dari Pesawat, Maskapai Bila...   travel   \n",
       "91016  Kapal Raib di Segitiga Bermuda, Nyaris Seabad ...   travel   \n",
       "\n",
       "                                          cleaned_title  \n",
       "91012     tumpah air panas pesawat kamu tuntut maskapai  \n",
       "91013     foto bal destinasi paling instagramable tahun  \n",
       "91014         game bikin turis libur jepang cari yakuza  \n",
       "91015  keluarga depak pesawat maskapai bilang bau badan  \n",
       "91016  kapal raib segitiga muda nyaris abad baru ketemu  "
      ]
     },
     "execution_count": 4,
     "metadata": {},
     "output_type": "execute_result"
    }
   ],
   "source": [
    "raw_data.tail()"
   ]
  },
  {
   "cell_type": "code",
   "execution_count": 5,
   "metadata": {},
   "outputs": [
    {
     "data": {
      "text/plain": [
       "0        None\n",
       "1        None\n",
       "2        None\n",
       "3        None\n",
       "4        None\n",
       "         ... \n",
       "91012    None\n",
       "91013    None\n",
       "91014    None\n",
       "91015    None\n",
       "91016    None\n",
       "Name: cleaned_title, Length: 91017, dtype: object"
      ]
     },
     "execution_count": 5,
     "metadata": {},
     "output_type": "execute_result"
    }
   ],
   "source": [
    "raw_data['cleaned_title'].apply(create_token)"
   ]
  },
  {
   "cell_type": "code",
   "execution_count": 6,
   "metadata": {},
   "outputs": [
    {
     "data": {
      "text/plain": [
       "['kemnaker', 'awas', 'tka', 'meikarta']"
      ]
     },
     "execution_count": 6,
     "metadata": {},
     "output_type": "execute_result"
    }
   ],
   "source": [
    "text_list[0]"
   ]
  },
  {
   "cell_type": "code",
   "execution_count": 7,
   "metadata": {},
   "outputs": [],
   "source": [
    "bigram = Phrases(text_list, min_count=10)\n",
    "trigram = Phrases(bigram[text_list])"
   ]
  },
  {
   "cell_type": "code",
   "execution_count": 8,
   "metadata": {},
   "outputs": [],
   "source": [
    "for idx in range(len(text_list)):\n",
    "    for token in bigram[text_list[idx]]:\n",
    "        if '_' in token:\n",
    "            # Token is a bigram, add to document.\n",
    "            text_list[idx].append(token)\n",
    "    for token in trigram[text_list[idx]]:\n",
    "        if '_' in token:\n",
    "            # Token is a bigram, add to document.\n",
    "            text_list[idx].append(token)"
   ]
  },
  {
   "cell_type": "code",
   "execution_count": 9,
   "metadata": {},
   "outputs": [],
   "source": [
    "dictionary = corpora.Dictionary(text_list)\n",
    "dictionary.filter_extremes(no_below=5, no_above=0.2)"
   ]
  },
  {
   "cell_type": "code",
   "execution_count": 10,
   "metadata": {},
   "outputs": [
    {
     "name": "stdout",
     "output_type": "stream",
     "text": [
      "Dictionary<15547 unique tokens: ['awas', 'kemnaker', 'meikarta', 'tka', 'bni']...>\n"
     ]
    }
   ],
   "source": [
    "print(dictionary)"
   ]
  },
  {
   "cell_type": "code",
   "execution_count": 11,
   "metadata": {},
   "outputs": [],
   "source": [
    "doc_term_matrix = [dictionary.doc2bow(doc) for doc in text_list]"
   ]
  },
  {
   "cell_type": "code",
   "execution_count": 12,
   "metadata": {},
   "outputs": [],
   "source": [
    "tfidf = models.TfidfModel(doc_term_matrix) #build TF-IDF model\n",
    "corpus_tfidf = tfidf[doc_term_matrix]"
   ]
  },
  {
   "cell_type": "code",
   "execution_count": 13,
   "metadata": {},
   "outputs": [
    {
     "name": "stdout",
     "output_type": "stream",
     "text": [
      "[(0, 0.37411001916150094), (1, 0.5311762505868636), (2, 0.5799564475653809), (3, 0.49147126396444235)]\n"
     ]
    }
   ],
   "source": [
    "for i in corpus_tfidf :\n",
    "    print(i)\n",
    "    break"
   ]
  },
  {
   "cell_type": "code",
   "execution_count": 66,
   "metadata": {},
   "outputs": [],
   "source": [
    "from gensim.models.coherencemodel import CoherenceModel\n",
    "from gensim.models.ldamulticore import LdaMulticore\n",
    "from gensim.models.ldamodel import LdaModel\n",
    "from gensim.corpora.dictionary import Dictionary\n",
    "from numpy import array\n",
    "from tqdm import tqdm"
   ]
  },
  {
   "cell_type": "code",
   "execution_count": 20,
   "metadata": {},
   "outputs": [],
   "source": [
    "def compute_coherence_values(dictionary, corpus, texts, limit, start, step):\n",
    "    coherence_values = []\n",
    "    model_list = []\n",
    "    for num_topics in tqdm(range(start, limit, step), desc=\"Topics Progress\"): #range(start, limit, step):\n",
    "        model = LdaMulticore(corpus=corpus, id2word=dictionary, num_topics=num_topics, iterations=100, passes=10, workers=15) \n",
    "        model_list.append(model)\n",
    "        coherencemodel = CoherenceModel(model=model, texts=texts, dictionary=dictionary, coherence='c_v')\n",
    "        coherence_values.append(coherencemodel.get_coherence())\n",
    "\n",
    "    return model_list, coherence_values"
   ]
  },
  {
   "cell_type": "code",
   "execution_count": 75,
   "metadata": {},
   "outputs": [
    {
     "name": "stderr",
     "output_type": "stream",
     "text": [
      "Topics Progress: 100%|█████████████| 49/49 [30:00<00:00, 36.74s/it]\n"
     ]
    }
   ],
   "source": [
    "start=1\n",
    "limit=50\n",
    "step=1\n",
    "model_list, coherence_values = compute_coherence_values(dictionary, corpus=corpus_tfidf,\n",
    "                                                        texts=text_list, start=start, limit=limit, step=step)"
   ]
  },
  {
   "cell_type": "code",
   "execution_count": 79,
   "metadata": {},
   "outputs": [
    {
     "data": {
      "image/png": "[encoded data removed]",
      "text/plain": [
       "<Figure size 640x480 with 1 Axes>"
      ]
     },
     "metadata": {},
     "output_type": "display_data"
    }
   ],
   "source": [
    "import matplotlib.pyplot as plt\n",
    "x = range(start, limit, step)\n",
    "\n",
    "plt.figure()\n",
    "plt.plot(x, coherence_values)\n",
    "plt.title('Skor Koherensi berdasarkan Banyak Topik')\n",
    "plt.xlabel(\"Banyak Topik\")\n",
    "plt.ylabel(\"Skor Coherence Sentimen Negatif\")\n",
    "plt.savefig('lda-cores15-91K-50.jpg')\n",
    "plt.show()"
   ]
  },
  {
   "cell_type": "code",
   "execution_count": 78,
   "metadata": {},
   "outputs": [
    {
     "name": "stdout",
     "output_type": "stream",
     "text": [
      "Koherensi tertinggi dicapai pada 34 topik dengan nilai 0.5630678312350179\n"
     ]
    }
   ],
   "source": [
    "temp=0\n",
    "index=0\n",
    "for i in range(45):\n",
    "    if coherence_values[i]>temp:\n",
    "        temp=coherence_values[i]\n",
    "        index=i+1\n",
    "print(f'Koherensi tertinggi dicapai pada {index} topik dengan nilai {temp}')"
   ]
  },
  {
   "cell_type": "code",
   "execution_count": 71,
   "metadata": {},
   "outputs": [
    {
     "data": {
      "text/plain": [
       "0.566782347343523"
      ]
     },
     "execution_count": 71,
     "metadata": {},
     "output_type": "execute_result"
    }
   ],
   "source": [
    "coherence_values[33]"
   ]
  },
  {
   "cell_type": "code",
   "execution_count": 73,
   "metadata": {},
   "outputs": [],
   "source": [
    "model_list[33].save('lda_91K_15c.model')"
   ]
  },
  {
   "cell_type": "code",
   "execution_count": 74,
   "metadata": {},
   "outputs": [
    {
     "name": "stdout",
     "output_type": "stream",
     "text": [
      "Topic: 0 Word: 0.025*\"kasus_positif\" + 0.010*\"thailand\" + 0.009*\"taman\" + 0.007*\"traveling\" + 0.006*\"per_hari\" + 0.006*\"keluar_rumah\" + 0.006*\"longsor\" + 0.005*\"hutan\" + 0.005*\"masa_psbb\" + 0.005*\"kasus\"\n",
      "Topic: 1 Word: 0.026*\"wabah_corona\" + 0.025*\"imbas_corona\" + 0.011*\"corona\" + 0.010*\"tembus_rp\" + 0.009*\"wabah\" + 0.008*\"imbas\" + 0.008*\"orang_kaya\" + 0.007*\"virus_corona\" + 0.007*\"bicara_soal\" + 0.007*\"pariwisata\"\n",
      "Topic: 2 Word: 0.015*\"anggota_dpr\" + 0.013*\"hand_sanitizer\" + 0.010*\"anggota_dprd\" + 0.008*\"anggota\" + 0.008*\"pemkot\" + 0.008*\"tingkat_mati\" + 0.007*\"meghan_markle\" + 0.007*\"karen_pooroe\" + 0.007*\"pangeran_harry\" + 0.006*\"jalan_rapid\"\n",
      "Topic: 3 Word: 0.016*\"tengah_wabah\" + 0.009*\"walkot\" + 0.008*\"jakbar\" + 0.007*\"banjir\" + 0.007*\"tangerang\" + 0.006*\"korupsi\" + 0.006*\"kapolda\" + 0.006*\"seluruh\" + 0.006*\"banjir_jakarta\" + 0.005*\"duga_korupsi\"\n",
      "Topic: 4 Word: 0.073*\"virus_corona\" + 0.034*\"new_normal\" + 0.024*\"virus\" + 0.015*\"corona\" + 0.014*\"minta_maaf\" + 0.011*\"normal\" + 0.011*\"new\" + 0.010*\"rendam_banjir\" + 0.006*\"tak_pernah\" + 0.006*\"elon_musk\"\n",
      "Topic: 5 Word: 0.031*\"erick_thohir\" + 0.018*\"rp_ribu\" + 0.016*\"rumah_sakit\" + 0.012*\"salat_jumat\" + 0.011*\"erick\" + 0.011*\"thohir\" + 0.009*\"pimpin_mpr\" + 0.008*\"kongres_kapan\" + 0.007*\"karantina_wilayah\" + 0.007*\"kemenag\"\n",
      "Topic: 6 Word: 0.016*\"makassar\" + 0.014*\"jaga_jarak\" + 0.009*\"luna_maya\" + 0.008*\"berita_populer\" + 0.007*\"bank_mandiri\" + 0.007*\"zoom\" + 0.007*\"jarak\" + 0.006*\"celaka\" + 0.006*\"sembunyi\" + 0.005*\"nagita_slavina\"\n",
      "Topic: 7 Word: 0.016*\"semprot_disinfektan\" + 0.010*\"lama_pandemi\" + 0.009*\"cara_buat\" + 0.008*\"disinfektan\" + 0.007*\"semprot\" + 0.007*\"tahun_depan\" + 0.007*\"apa_sih\" + 0.006*\"pekan_depan\" + 0.006*\"ibunda_jokowi\" + 0.006*\"jaksa_agung\"\n",
      "Topic: 8 Word: 0.022*\"ketua_mpr\" + 0.013*\"cegah_sebar\" + 0.012*\"kasus_baru\" + 0.012*\"balap\" + 0.011*\"toyota\" + 0.011*\"mpr\" + 0.009*\"ketua\" + 0.008*\"bupati\" + 0.008*\"infeksi_virus\" + 0.008*\"corona\"\n",
      "Topic: 9 Word: 0.040*\"tengah_pandemi\" + 0.017*\"tangkap_polisi\" + 0.016*\"luar_negeri\" + 0.014*\"wni_positif\" + 0.013*\"pantai\" + 0.013*\"tengah\" + 0.012*\"sembuh_tinggal\" + 0.011*\"pandemi\" + 0.008*\"bengkulu\" + 0.008*\"orang_tewas\"\n",
      "Topic: 10 Word: 0.016*\"didi_kempot\" + 0.014*\"protokol_sehat\" + 0.010*\"zaskia_gotik\" + 0.009*\"bunuh_diri\" + 0.009*\"rspi_ss\" + 0.009*\"pulang_kampung\" + 0.009*\"didi\" + 0.009*\"kempot\" + 0.008*\"indah\" + 0.008*\"luar_biasa\"\n",
      "Topic: 11 Word: 0.013*\"tak_perlu\" + 0.010*\"buka_puasa\" + 0.007*\"puasa\" + 0.007*\"isolasi_diri\" + 0.006*\"cuci_tangan\" + 0.006*\"tak\" + 0.006*\"potensi\" + 0.005*\"vicky_prasetyo\" + 0.005*\"masak_rumah\" + 0.004*\"komisi_ii\"\n",
      "Topic: 12 Word: 0.015*\"nikita_mirzani\" + 0.013*\"dolar_as\" + 0.013*\"vanessa_angel\" + 0.013*\"omnibus_law\" + 0.013*\"mahfud_md\" + 0.008*\"mahfud\" + 0.008*\"law\" + 0.008*\"nikita\" + 0.008*\"omnibus\" + 0.008*\"mirzani\"\n",
      "Topic: 13 Word: 0.018*\"sri_mulyani\" + 0.016*\"jadi_sangka\" + 0.010*\"wisma_atlet\" + 0.010*\"vaksin_corona\" + 0.009*\"corona\" + 0.007*\"atlet\" + 0.006*\"sejarah\" + 0.006*\"sri\" + 0.006*\"lawan_corona\" + 0.006*\"lawan\"\n",
      "Topic: 14 Word: 0.015*\"ibu_kota\" + 0.014*\"polisi_tangkap\" + 0.014*\"wisata\" + 0.011*\"riau\" + 0.011*\"rp_triliun\" + 0.010*\"kapal_pesiar\" + 0.008*\"kerja_sama\" + 0.007*\"corona\" + 0.007*\"pulau\" + 0.006*\"george_floyd\"\n",
      "Topic: 15 Word: 0.024*\"begini_cara\" + 0.020*\"jokowi_minta\" + 0.010*\"pilkada\" + 0.010*\"kpu\" + 0.008*\"jaksel\" + 0.008*\"bulan_depan\" + 0.007*\"provinsi\" + 0.007*\"ungkap_alas\" + 0.007*\"begini\" + 0.007*\"cara\"\n",
      "Topic: 16 Word: 0.007*\"whatsapp\" + 0.007*\"pp\" + 0.006*\"transportasi\" + 0.006*\"pemuda\" + 0.006*\"transportasi_umum\" + 0.006*\"puncak\" + 0.006*\"jebak\" + 0.006*\"danau\" + 0.006*\"belanda\" + 0.005*\"tindak\"\n",
      "Topic: 17 Word: 0.021*\"rp_miliar\" + 0.016*\"dki_jakarta\" + 0.011*\"dprd\" + 0.011*\"bima_arya\" + 0.010*\"akhir_pekan\" + 0.009*\"miliar\" + 0.008*\"edhy_prabowo\" + 0.007*\"rugi_rp\" + 0.007*\"video_call\" + 0.007*\"tangsel\"\n",
      "Topic: 18 Word: 0.017*\"usia_tahun\" + 0.010*\"pertama_kali\" + 0.008*\"usia\" + 0.007*\"masuk_ri\" + 0.006*\"garagara_corona\" + 0.006*\"garagara\" + 0.005*\"tumpang_krl\" + 0.005*\"lina_eks\" + 0.005*\"polman\" + 0.005*\"ayu_ting\"\n",
      "Topic: 19 Word: 0.015*\"social_distancing\" + 0.013*\"arab_saudi\" + 0.009*\"kota_bogor\" + 0.006*\"arab\" + 0.006*\"saudi\" + 0.006*\"macet\" + 0.006*\"tes_swab\" + 0.006*\"makan_enak\" + 0.005*\"social\" + 0.005*\"tenggelam\"\n",
      "Topic: 20 Word: 0.017*\"wali_kota\" + 0.011*\"hari_pertama\" + 0.010*\"uji_coba\" + 0.010*\"kepala_daerah\" + 0.009*\"nyata_sembuh\" + 0.009*\"kabar_baik\" + 0.008*\"iphone\" + 0.008*\"harga_bbm\" + 0.008*\"apple\" + 0.007*\"galaxy\"\n",
      "Topic: 21 Word: 0.021*\"glenn_fredly\" + 0.015*\"korban_banjir\" + 0.014*\"pasien_sembuh\" + 0.011*\"formula\" + 0.011*\"gempa\" + 0.008*\"glenn\" + 0.008*\"fredly\" + 0.007*\"tetap_jalan\" + 0.007*\"angkut_tumpang\" + 0.007*\"olimpiade\"\n",
      "Topic: 22 Word: 0.014*\"bpjs_sehat\" + 0.012*\"update_kasus\" + 0.011*\"iur_bpjs\" + 0.009*\"anies_baswedan\" + 0.009*\"bpjs\" + 0.008*\"hingga_tewas\" + 0.008*\"maskapai\" + 0.008*\"apa_kabar\" + 0.007*\"era_new\" + 0.007*\"kena_phk\"\n",
      "Topic: 23 Word: 0.021*\"pemprov_dki\" + 0.014*\"positif_sembuh\" + 0.013*\"ashraf_sinclair\" + 0.012*\"pemprov\" + 0.011*\"raffi_ahmad\" + 0.009*\"masa_pandemi\" + 0.009*\"update\" + 0.009*\"warga_dampak\" + 0.008*\"per_april\" + 0.008*\"denda_rp\"\n",
      "Topic: 24 Word: 0.064*\"positif_corona\" + 0.020*\"positif\" + 0.015*\"gugus_tugas\" + 0.014*\"polda_metro\" + 0.013*\"corona\" + 0.011*\"sebar_kasus\" + 0.010*\"sulsel\" + 0.009*\"salat_id\" + 0.008*\"polda\" + 0.008*\"kendara\"\n",
      "Topic: 25 Word: 0.025*\"larang_mudik\" + 0.014*\"kartu_pra\" + 0.012*\"ekonomi_ri\" + 0.010*\"mudik\" + 0.008*\"larang\" + 0.008*\"juara\" + 0.008*\"pra_kerja\" + 0.007*\"pra\" + 0.007*\"tular_virus\" + 0.007*\"ridwan_kamil\"\n",
      "Topic: 26 Word: 0.023*\"lucinta_luna\" + 0.014*\"motogp\" + 0.010*\"gerindra\" + 0.008*\"lucinta\" + 0.008*\"luna\" + 0.007*\"palembang\" + 0.006*\"dagang_pasar\" + 0.006*\"wabah_virus\" + 0.006*\"gunung\" + 0.005*\"populer_pek\"\n",
      "Topic: 27 Word: 0.057*\"pandemi_corona\" + 0.015*\"pandemi\" + 0.015*\"cegah_virus\" + 0.014*\"kerja_rumah\" + 0.014*\"mobil_listrik\" + 0.009*\"corona\" + 0.006*\"percaya_diri\" + 0.006*\"ria_irawan\" + 0.006*\"riza_patria\" + 0.005*\"polisi_selidik\"\n",
      "Topic: 28 Word: 0.053*\"rp_juta\" + 0.025*\"rapid_test\" + 0.016*\"juta\" + 0.014*\"driver_ojol\" + 0.013*\"rp\" + 0.012*\"turun_tangan\" + 0.012*\"tambah_kasus\" + 0.010*\"test\" + 0.009*\"bandara_soetta\" + 0.008*\"jelang_lebaran\"\n",
      "Topic: 29 Word: 0.029*\"pasien_positif\" + 0.018*\"orang_tua\" + 0.011*\"evakuasi\" + 0.009*\"tua\" + 0.008*\"tahun_lalu\" + 0.008*\"sabu\" + 0.007*\"pasien\" + 0.007*\"corona\" + 0.007*\"ahmad_dhani\" + 0.007*\"evakuasi_wni\"\n",
      "Topic: 30 Word: 0.010*\"bagaimana_nasib\" + 0.007*\"traveler\" + 0.007*\"tni\" + 0.007*\"jadi_saksi\" + 0.007*\"yogyakarta\" + 0.006*\"kapal_china\" + 0.006*\"begini_kondisi\" + 0.006*\"harga_gula\" + 0.006*\"sulap_jadi\" + 0.006*\"parepare\"\n",
      "Topic: 31 Word: 0.015*\"nyata_lengkap\" + 0.013*\"kpk\" + 0.012*\"sumut\" + 0.009*\"sumbar\" + 0.008*\"corona\" + 0.007*\"lengkap\" + 0.006*\"zona_merah\" + 0.006*\"baim_wong\" + 0.006*\"napi\" + 0.006*\"tim_medis\"\n",
      "Topic: 32 Word: 0.028*\"tenaga_medis\" + 0.024*\"galeri_foto\" + 0.016*\"pakai_masker\" + 0.010*\"tenaga\" + 0.009*\"medis\" + 0.009*\"foto\" + 0.009*\"salah_satu\" + 0.009*\"galeri\" + 0.007*\"lion_air\" + 0.006*\"ulang_tahun\"\n",
      "Topic: 33 Word: 0.020*\"kobe_bryant\" + 0.016*\"buka_suara\" + 0.011*\"turis\" + 0.011*\"bill_gates\" + 0.011*\"rizky_febian\" + 0.009*\"maruf_amin\" + 0.009*\"maruf\" + 0.008*\"langgar_psbb\" + 0.008*\"rawat_pasien\" + 0.008*\"imbau_warga\"\n"
     ]
    }
   ],
   "source": [
    "for idx, topic in model_list[33].print_topics(-1):\n",
    "    print('Topic: {} Word: {}'.format(idx, topic))"
   ]
  },
  {
   "cell_type": "code",
   "execution_count": null,
   "metadata": {},
   "outputs": [],
   "source": []
  }
 ],
 "metadata": {
  "kernelspec": {
   "display_name": "Python 3 (ipykernel)",
   "language": "python",
   "name": "python3"
  },
  "language_info": {
   "codemirror_mode": {
    "name": "ipython",
    "version": 3
   },
   "file_extension": ".py",
   "mimetype": "text/x-python",
   "name": "python",
   "nbconvert_exporter": "python",
   "pygments_lexer": "ipython3",
   "version": "3.11.5"
  }
 },
 "nbformat": 4,
 "nbformat_minor": 4
}
